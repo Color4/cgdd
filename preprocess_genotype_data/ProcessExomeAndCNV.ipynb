{
 "cells": [
  {
   "cell_type": "code",
   "execution_count": 106,
   "metadata": {
    "collapsed": true
   },
   "outputs": [],
   "source": [
    "import pandas as pd\n",
    "from collections import defaultdict\n",
    "import csv"
   ]
  },
  {
   "cell_type": "markdown",
   "metadata": {},
   "source": [
    "Read list of ~500 cancer genes from Campbell et al"
   ]
  },
  {
   "cell_type": "code",
   "execution_count": 107,
   "metadata": {
    "collapsed": false
   },
   "outputs": [],
   "source": [
    "cancer_genes = {}\n",
    "cancer_gene_names = {}\n",
    "with open(\"./genotype_input/cancer_gene_classifications_v0.4.txt\",\"rU\") as f :\n",
    "    for line in f :\n",
    "        if not line.startswith('#') :\n",
    "            parts = line.strip().split()\n",
    "            cancer_genes[parts[0]] = parts[-1]\n",
    "            cancer_gene_names[parts[0]] = \"%s_%s_%s\" % (parts[0],parts[1],parts[2])"
   ]
  },
  {
   "cell_type": "markdown",
   "metadata": {},
   "source": [
    "For each driver gene, func_muts stores the set of cell lines believed to have a 'functional' alteration in that driver gene. For each driver gene, func_muts stores the set of cell lines with any alteration in that driver gene (including presumed non functional mutations)."
   ]
  },
  {
   "cell_type": "code",
   "execution_count": 36,
   "metadata": {
    "collapsed": true
   },
   "outputs": [],
   "source": [
    "func_muts = defaultdict(set)\n",
    "all_muts = defaultdict(set)"
   ]
  },
  {
   "cell_type": "code",
   "execution_count": 8,
   "metadata": {
    "collapsed": false
   },
   "outputs": [],
   "source": [
    "mutations = pd.read_excel(\"./genotype_input/TableS2C.xlsx\",skiprows=range(0,20))"
   ]
  },
  {
   "cell_type": "markdown",
   "metadata": {},
   "source": [
    "For oncogenes we consider recurrent missense or inframe alterations as functional alterations.  \n",
    "In addition to recurrent events, for tumour suppressors we consider that all nonsense, frameshift and splice-site mutations are functional alterations. "
   ]
  },
  {
   "cell_type": "code",
   "execution_count": 42,
   "metadata": {
    "collapsed": false
   },
   "outputs": [],
   "source": [
    "for index,mutation in mutations.iterrows() :\n",
    "    if mutation['Gene'] in cancer_genes :\n",
    "        if cancer_genes[mutation['Gene']] == 'OG' :\n",
    "            if mutation['Classification'] in ('missense','inframe') :\n",
    "                if mutation['Recurrence Filter'] == 'Yes' :\n",
    "                    func_muts[mutation['Gene']].add(mutation['COSMIC_ID'])\n",
    "            all_muts[mutation['Gene']].add(mutation['COSMIC_ID'])\n",
    "        else : \n",
    "            if mutation['Classification'] in ('nonsense','frameshift','ess_splice') :\n",
    "                func_muts[mutation['Gene']].add(mutation['COSMIC_ID'])\n",
    "            elif mutation['Recurrence Filter'] == 'Yes':\n",
    "                func_muts[mutation['Gene']].add(mutation['COSMIC_ID'])\n",
    "            all_muts[mutation['Gene']].add(mutation['COSMIC_ID'])"
   ]
  },
  {
   "cell_type": "code",
   "execution_count": 46,
   "metadata": {
    "collapsed": false
   },
   "outputs": [
    {
     "name": "stdout",
     "output_type": "stream",
     "text": [
      "1001\n"
     ]
    }
   ],
   "source": [
    "sequenced = set(mutations['COSMIC_ID'].unique())\n",
    "print len(sequenced)"
   ]
  },
  {
   "cell_type": "code",
   "execution_count": 108,
   "metadata": {
    "collapsed": true
   },
   "outputs": [],
   "source": [
    "cosmic_to_common = {}\n",
    "with open(\"COSMIC_ID_TO_CANCERGD.txt\",\"rU\") as f:\n",
    "    for i in f :\n",
    "        parts = i.strip().split()\n",
    "        cosmic_to_common[int(parts[0])] = parts[1]"
   ]
  },
  {
   "cell_type": "code",
   "execution_count": 109,
   "metadata": {
    "collapsed": true
   },
   "outputs": [],
   "source": [
    "with open(\"genotype_output/GDSC1000_exome_func_muts_v1.txt\",\"w\") as f :\n",
    "    writer = csv.writer(f,delimiter=\"\\t\")\n",
    "    writer.writerow([\"Gene\"] + [cancer_gene_names[x] for x in cancer_genes])\n",
    "    for cell_line in sequenced :\n",
    "        writer.writerow([cosmic_to_common[cell_line]] + [int(cell_line in func_muts[x]) for x in cancer_genes])\n",
    "with open(\"genotype_output/GDSC1000_exome_all_muts_v1.txt\",\"w\") as f :\n",
    "    writer = csv.writer(f,delimiter=\"\\t\")\n",
    "    writer.writerow([\"Gene\"] + [cancer_gene_names[x] for x in cancer_genes])\n",
    "    for cell_line in sequenced :\n",
    "        writer.writerow([cosmic_to_common[cell_line]] + [int(cell_line in all_muts[x]) for x in cancer_genes])"
   ]
  },
  {
   "cell_type": "code",
   "execution_count": 58,
   "metadata": {
    "collapsed": true
   },
   "outputs": [],
   "source": [
    "del mutations"
   ]
  },
  {
   "cell_type": "code",
   "execution_count": 54,
   "metadata": {
    "collapsed": true
   },
   "outputs": [],
   "source": [
    "copy_numbers = defaultdict(set)"
   ]
  },
  {
   "cell_type": "code",
   "execution_count": 60,
   "metadata": {
    "collapsed": true
   },
   "outputs": [],
   "source": [
    "func_cnvs = defaultdict(set)"
   ]
  },
  {
   "cell_type": "code",
   "execution_count": 78,
   "metadata": {
    "collapsed": false
   },
   "outputs": [],
   "source": [
    "with open(\"./genotype_input/Gene_level_CN.txt\",\"rU\") as f :\n",
    "    reader = csv.DictReader(f,delimiter=\"\\t\")\n",
    "    for line in reader :\n",
    "        if line['gene'] in cancer_genes :\n",
    "            for cell_line in line :\n",
    "                if cell_line not in ('chr','start','stop','gene') :\n",
    "                    parts = line[cell_line].split(',')\n",
    "                    copies = int(parts[1])\n",
    "                    if copies == 0 and cancer_genes[line['gene']] == 'TSG':\n",
    "                        func_cnvs[line['gene']].add(int(cell_line))\n",
    "                    elif copies > 7 and cancer_genes[line['gene']] == 'OG' :\n",
    "                        func_cnvs[line['gene']].add(int(cell_line))\n",
    "cnv_profiled = set([int(x) for x in line if x not in ('chr','start','stop','gene')])"
   ]
  },
  {
   "cell_type": "code",
   "execution_count": 110,
   "metadata": {
    "collapsed": true
   },
   "outputs": [],
   "source": [
    "with open(\"genotype_output/GDSC1000_cnv_func_muts_v1.txt\",\"w\") as f :\n",
    "    writer = csv.writer(f,delimiter=\"\\t\")\n",
    "    writer.writerow([\"Gene\"] + [cancer_gene_names[x] for x in cancer_genes])\n",
    "    for cell_line in cnv_profiled :\n",
    "        writer.writerow([cosmic_to_common[cell_line]] + [int(cell_line in func_cnvs[x]) for x in cancer_genes])"
   ]
  },
  {
   "cell_type": "code",
   "execution_count": 118,
   "metadata": {
    "collapsed": false
   },
   "outputs": [
    {
     "name": "stdout",
     "output_type": "stream",
     "text": [
      "996\n"
     ]
    }
   ],
   "source": [
    "overlap = cnv_profiled.intersection(sequenced)\n",
    "print len(overlap)"
   ]
  },
  {
   "cell_type": "code",
   "execution_count": 114,
   "metadata": {
    "collapsed": true
   },
   "outputs": [],
   "source": [
    "amps = ['ERBB2','MYC','MYCN']\n",
    "muts = ['KRAS','BRAF','NRAS','HRAS']\n",
    "event_type = {}\n",
    "for x in cancer_genes :\n",
    "    if x in amps :\n",
    "        event_type[x] = \"CNV\"\n",
    "    elif x in muts :\n",
    "        event_type[x] = \"MUT\"\n",
    "    else :\n",
    "        event_type[x] = \"BOTH\""
   ]
  },
  {
   "cell_type": "code",
   "execution_count": 122,
   "metadata": {
    "collapsed": true
   },
   "outputs": [],
   "source": [
    "WT_VALUE = 0\n",
    "MUT_VALUE = 1\n",
    "CNV_VALUE = 2\n",
    "def get_alteration_type(cell_line,gene,group=\"BOTH\", mut_dict = func_muts) :\n",
    "    if group == 'CNV' :\n",
    "        if cell_line in func_cnvs[gene] :\n",
    "            return CNV_VALUE\n",
    "        else :\n",
    "            return WT_VALUE\n",
    "    elif group == 'MUT' :\n",
    "        if cell_line in mut_dict[gene] :\n",
    "            return MUT_VALUE\n",
    "        else :\n",
    "            return WT_VALUE\n",
    "    else :\n",
    "        if cell_line in mut_dict[gene] :\n",
    "            return MUT_VALUE\n",
    "        elif cell_line in func_cnvs[gene] :\n",
    "            return CNV_VALUE\n",
    "        else :\n",
    "            return WT_VALUE\n",
    "        \n",
    "def get_alteration_status(cell_line,gene,group=\"BOTH\", mut_dict = func_muts) :\n",
    "    if group == 'CNV' :\n",
    "        if cell_line in func_cnvs[gene] :\n",
    "            return 1\n",
    "        else :\n",
    "            return 0\n",
    "    elif group == 'MUT' :\n",
    "        if cell_line in mut_dict[gene] :\n",
    "            return 1\n",
    "        else :\n",
    "            return 0\n",
    "    else :\n",
    "        if cell_line in mut_dict[gene] :\n",
    "            return 1\n",
    "        elif cell_line in func_cnvs[gene] :\n",
    "            return 1\n",
    "        else :\n",
    "            return 0"
   ]
  },
  {
   "cell_type": "code",
   "execution_count": 123,
   "metadata": {
    "collapsed": false
   },
   "outputs": [],
   "source": [
    "with open(\"genotype_output/GDSC1000_cnv_exome_func_muts_v1.txt\",\"w\") as f :\n",
    "    writer = csv.writer(f,delimiter=\"\\t\")\n",
    "    writer.writerow([\"Gene\"] + [cancer_gene_names[x] for x in cancer_genes])\n",
    "    for cell_line in overlap :\n",
    "        writer.writerow([cosmic_to_common[cell_line]] + [get_alteration_status(cell_line,x,event_type[x],func_muts) for x in cancer_genes])\n",
    "\n",
    "with open(\"genotype_output/GDSC1000_cnv_exome_all_muts_v1.txt\",\"w\") as f :\n",
    "    writer = csv.writer(f,delimiter=\"\\t\")\n",
    "    writer.writerow([\"Gene\"] + [cancer_gene_names[x] for x in cancer_genes])\n",
    "    for cell_line in overlap :\n",
    "        writer.writerow([cosmic_to_common[cell_line]] + [get_alteration_status(cell_line,x,event_type[x],all_muts) for x in cancer_genes])\n",
    "\n",
    "with open(\"genotype_output/GDSC1000_cnv_exome_func_mut_types_v1.txt\",\"w\") as f :\n",
    "    writer = csv.writer(f,delimiter=\"\\t\")\n",
    "    writer.writerow([\"Gene\"] + [cancer_gene_names[x] for x in cancer_genes])\n",
    "    for cell_line in overlap :\n",
    "        writer.writerow([cosmic_to_common[cell_line]] + [get_alteration_type(cell_line,x,event_type[x],func_muts) for x in cancer_genes])\n"
   ]
  }
 ],
 "metadata": {
  "kernelspec": {
   "display_name": "Python 2",
   "language": "python",
   "name": "python2"
  },
  "language_info": {
   "codemirror_mode": {
    "name": "ipython",
    "version": 2
   },
   "file_extension": ".py",
   "mimetype": "text/x-python",
   "name": "python",
   "nbconvert_exporter": "python",
   "pygments_lexer": "ipython2",
   "version": "2.7.11"
  }
 },
 "nbformat": 4,
 "nbformat_minor": 0
}
