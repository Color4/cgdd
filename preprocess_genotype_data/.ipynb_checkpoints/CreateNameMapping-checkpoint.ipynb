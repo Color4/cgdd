{
 "cells": [
  {
   "cell_type": "code",
   "execution_count": 159,
   "metadata": {
    "collapsed": false
   },
   "outputs": [],
   "source": [
    "import pandas as pd\n",
    "import re\n",
    "from collections import defaultdict\n",
    "import csv"
   ]
  },
  {
   "cell_type": "code",
   "execution_count": 160,
   "metadata": {
    "collapsed": false
   },
   "outputs": [],
   "source": [
    "cell_line_details = pd.read_excel('genotype_input/TableS1E.xlsx',skiprows=(0,1,3,1005))"
   ]
  },
  {
   "cell_type": "code",
   "execution_count": 161,
   "metadata": {
    "collapsed": false
   },
   "outputs": [],
   "source": [
    "tissues = {}\n",
    "names = {}\n",
    "for index, cell_line in cell_line_details.iterrows() :\n",
    "    cosmic_id = int(cell_line['COSMIC identifier'])\n",
    "    tissue = cell_line['GDSC\\nTissue\\ndescriptor 2']\n",
    "    name = str(cell_line['Sample Name'])\n",
    "    tissues[cosmic_id] = tissue\n",
    "    names[cosmic_id] = name"
   ]
  },
  {
   "cell_type": "code",
   "execution_count": 162,
   "metadata": {
    "collapsed": false
   },
   "outputs": [],
   "source": [
    "regex = re.compile('[^a-zA-Z0-9]')\n",
    "def convert_name(name) :\n",
    "    return regex.sub('',name).upper()"
   ]
  },
  {
   "cell_type": "markdown",
   "metadata": {},
   "source": [
    "Read and process mapping from CDSC to CCLE data"
   ]
  },
  {
   "cell_type": "code",
   "execution_count": 163,
   "metadata": {
    "collapsed": false
   },
   "outputs": [],
   "source": [
    "conversion_file = pd.read_excel('genotype_input/TableS4E.xlsx',skiprows=range(0,8))"
   ]
  },
  {
   "cell_type": "code",
   "execution_count": 164,
   "metadata": {
    "collapsed": false
   },
   "outputs": [],
   "source": [
    "mapping = {}\n",
    "for index, cell_line in conversion_file.iterrows() :\n",
    "    mapping[int(cell_line['GDSC1000 cosmic id'])] = cell_line['CCLE name']"
   ]
  },
  {
   "cell_type": "markdown",
   "metadata": {},
   "source": [
    "Identify candidates to manually rename"
   ]
  },
  {
   "cell_type": "code",
   "execution_count": 165,
   "metadata": {
    "collapsed": false
   },
   "outputs": [
    {
     "name": "stdout",
     "output_type": "stream",
     "text": [
      "PL45_PANCREAS PL4\n",
      "TE617T_SOFT_TISSUE TE6\n",
      "NCIH322_LUNG NCIH322M\n",
      "SW1353_BONE SW13\n",
      "LU99_LUNG LU99A\n",
      "KNS81_CENTRAL_NERVOUS_SYSTEM KNS81FD\n",
      "WM793_SKIN WM793B\n",
      "NIHOVCAR3_OVARY OVCAR3\n",
      "786O_KIDNEY 7860\n",
      "SKNBE2_AUTONOMIC_GANGLIA SKN\n",
      "CMK86_HAEMATOPOIETIC_AND_LYMPHOID_TISSUE CMK\n",
      "COLO320_LARGE_INTESTINE COLO320HSR\n",
      "HEYA8_OVARY HEY\n",
      "KMRC2_KIDNEY KMRC20\n",
      "HEL9217_HAEMATOPOIETIC_AND_LYMPHOID_TISSUE HEL\n",
      "LC1SQSF_LUNG LC1SQ\n"
     ]
    }
   ],
   "source": [
    "for i in mapping :\n",
    "    if mapping[i].split('_',1)[0] != regex.sub('',names[i]).upper() :\n",
    "        print mapping[i],regex.sub('',names[i]).upper()"
   ]
  },
  {
   "cell_type": "markdown",
   "metadata": {},
   "source": [
    "Identify mapping betweend GDSC and CCLE tissue types"
   ]
  },
  {
   "cell_type": "code",
   "execution_count": 166,
   "metadata": {
    "collapsed": false
   },
   "outputs": [],
   "source": [
    "tissue_type_map = defaultdict(set)\n",
    "for i in mapping :\n",
    "    gdsc_tissue_type = tissues[i]\n",
    "    ccle_tissue_type = mapping[i].split('_',1)[1]\n",
    "    tissue_type_map[gdsc_tissue_type].add(ccle_tissue_type)"
   ]
  },
  {
   "cell_type": "code",
   "execution_count": 167,
   "metadata": {
    "collapsed": false
   },
   "outputs": [
    {
     "name": "stdout",
     "output_type": "stream",
     "text": [
      "kidney set([u'SOFT_TISSUE', u'KIDNEY'])\n",
      "oesophagus set([u'OESOPHAGUS', u'SOFT_TISSUE'])\n",
      "rhabdomyosarcoma set([u'SOFT_TISSUE', u'BONE'])\n",
      "head and neck set([u'UPPER_AERODIGESTIVE_TRACT', u'SALIVARY_GLAND'])\n",
      "uterus set([u'AUTONOMIC_GANGLIA', u'SOFT_TISSUE'])\n"
     ]
    }
   ],
   "source": [
    "for x in tissue_type_map :\n",
    "    if len(tissue_type_map[x]) > 1 :\n",
    "        print x, tissue_type_map[x]"
   ]
  },
  {
   "cell_type": "code",
   "execution_count": 168,
   "metadata": {
    "collapsed": true
   },
   "outputs": [],
   "source": [
    "tissue_type_map['rhabdomyosarcoma'] = [u'SOFT_TISSUE']\n",
    "tissue_type_map['kidney'] = [u'KIDNEY']\n",
    "tissue_type_map['oesophagus'] = [u'OESOPHAGUS']\n",
    "tissue_type_map['head and neck'] = [u'HEADNECK']\n",
    "tissue_type_map['uterus'] = [u'SOFT_TISSUE']"
   ]
  },
  {
   "cell_type": "code",
   "execution_count": 169,
   "metadata": {
    "collapsed": true
   },
   "outputs": [],
   "source": [
    "tissue_type_map['Lung_other'] = [u'LUNG']\n",
    "tissue_type_map['skin_other'] = [u'SKIN']\n",
    "tissue_type_map['hairy_cell_leukaemia'] = [u'HAEMATOPOIETIC_AND_LYMPHOID_TISSUE']\n",
    "tissue_type_map['leukemia'] = [u'HAEMATOPOIETIC_AND_LYMPHOID_TISSUE']\n",
    "tissue_type_map['cervix'] = [u'CERVIX']\n"
   ]
  },
  {
   "cell_type": "code",
   "execution_count": 170,
   "metadata": {
    "collapsed": false
   },
   "outputs": [
    {
     "name": "stdout",
     "output_type": "stream",
     "text": [
      "THYROID 16\n",
      "SOFT_TISSUE 23\n",
      "HAEMATOPOIETIC_AND_LYMPHOID_TISSUE 173\n",
      "BILIARY_TRACT 5\n",
      "PANCREAS 32\n",
      "CERVIX 15\n",
      "CENTRAL_NERVOUS_SYSTEM 57\n",
      "BONE 41\n",
      "LARGE_INTESTINE 51\n",
      "AUTONOMIC_GANGLIA 32\n",
      "PLEURA 21\n",
      "URINARY_TRACT 19\n",
      "OTHER 8\n",
      "LUNG 178\n",
      "BREAST 52\n",
      "SKIN 58\n",
      "OVARY 43\n",
      "PROSTATE 8\n",
      "KIDNEY 33\n",
      "STOMACH 29\n",
      "ENDOMETRIUM 11\n",
      "HEADNECK 44\n",
      "OESOPHAGUS 35\n",
      "LIVER 17\n"
     ]
    }
   ],
   "source": [
    "groups = defaultdict(set)\n",
    "for i in names :\n",
    "    if tissues[i] in tissue_type_map :\n",
    "        groups[list(tissue_type_map[tissues[i]])[0]].add(names[i])\n",
    "    else :\n",
    "        groups['OTHER'].add(names[i])\n",
    "for g in groups :\n",
    "    print g, len(groups[g])"
   ]
  },
  {
   "cell_type": "code",
   "execution_count": 171,
   "metadata": {
    "collapsed": false
   },
   "outputs": [
    {
     "data": {
      "text/plain": [
       "[('SW962', u'urogenital_system_other'),\n",
       " ('SW954', u'urogenital_system_other'),\n",
       " ('NEC8', u'testis'),\n",
       " ('NCCIT', u'testis'),\n",
       " ('NTERA-2 cl.D1', u'testis'),\n",
       " ('JAR', u'urogenital_system_other'),\n",
       " ('JEG-3', u'urogenital_system_other'),\n",
       " ('HUTU-80', u'digestive_system_other')]"
      ]
     },
     "execution_count": 171,
     "metadata": {},
     "output_type": "execute_result"
    }
   ],
   "source": [
    "[(names[x],tissues[x]) for x in tissues if tissues[x] not in tissue_type_map]"
   ]
  },
  {
   "cell_type": "code",
   "execution_count": 174,
   "metadata": {
    "collapsed": false
   },
   "outputs": [
    {
     "name": "stdout",
     "output_type": "stream",
     "text": [
      "1298533 PL4 PL45_PANCREAS\n",
      "946355 TE6 TE617T_SOFT_TISSUE\n",
      "905967 NCIH322M NCIH322_LUNG\n",
      "909744 SW13 SW1353_BONE\n",
      "907796 LU99A LU99_LUNG\n",
      "924188 KNS81FD KNS81_CENTRAL_NERVOUS_SYSTEM\n",
      "1299081 WM793B WM793_SKIN\n",
      "905933 OVCAR3 NIHOVCAR3_OVARY\n",
      "905947 7860 786O_KIDNEY\n",
      "1240215 SKN SKNBE2_AUTONOMIC_GANGLIA\n",
      "910566 CMK CMK86_HAEMATOPOIETIC_AND_LYMPHOID_TISSUE\n",
      "910569 COLO320HSR COLO320_LARGE_INTESTINE\n",
      "1479988 HEY HEYA8_OVARY\n",
      "1298169 KMRC20 KMRC2_KIDNEY\n",
      "907053 HEL HEL9217_HAEMATOPOIETIC_AND_LYMPHOID_TISSUE\n",
      "1298223 LC1SQ LC1SQSF_LUNG\n"
     ]
    }
   ],
   "source": [
    "converted = set()\n",
    "converted_names = {}\n",
    "for x in mapping :\n",
    "    if convert_name(names[x]) != mapping[x].split('_')[0] :\n",
    "        print x,convert_name(names[x]),mapping[x]\n",
    "for i in names :\n",
    "    an_name = convert_name(names[i])\n",
    "    if tissues[i] in tissue_type_map :\n",
    "        tissue = list(tissue_type_map[tissues[i]])[0]\n",
    "    else :\n",
    "        tissue = \"OTHER\"\n",
    "    converted.add(\"%s_%s\" % (an_name,tissue))\n",
    "    converted_names[i] = \"%s_%s\" % (an_name,tissue)"
   ]
  },
  {
   "cell_type": "code",
   "execution_count": 175,
   "metadata": {
    "collapsed": false
   },
   "outputs": [],
   "source": [
    "with open(\"COSMIC_ID_TO_CANCERGD.txt\",\"w\") as f:\n",
    "    for i in converted_names :\n",
    "        f.write(\"%s\\t%s\\n\" % (i, converted_names[i]))"
   ]
  },
  {
   "cell_type": "code",
   "execution_count": null,
   "metadata": {
    "collapsed": true
   },
   "outputs": [],
   "source": []
  }
 ],
 "metadata": {
  "kernelspec": {
   "display_name": "Python 2",
   "language": "python",
   "name": "python2"
  },
  "language_info": {
   "codemirror_mode": {
    "name": "ipython",
    "version": 2
   },
   "file_extension": ".py",
   "mimetype": "text/x-python",
   "name": "python",
   "nbconvert_exporter": "python",
   "pygments_lexer": "ipython2",
   "version": "2.7.11"
  }
 },
 "nbformat": 4,
 "nbformat_minor": 0
}
